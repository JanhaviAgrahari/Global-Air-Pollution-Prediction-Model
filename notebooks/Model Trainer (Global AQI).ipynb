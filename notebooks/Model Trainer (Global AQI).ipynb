{
 "cells": [
  {
   "cell_type": "code",
   "execution_count": 3,
   "id": "af5c1797-5a64-4dce-ba69-cee4ecea52f6",
   "metadata": {},
   "outputs": [],
   "source": [
    "# Basic Import\n",
    "import numpy as np\n",
    "import pandas as pd\n",
    "import matplotlib.pyplot as plt \n",
    "import seaborn as sns\n",
    "%matplotlib inline\n",
    "\n",
    "# Modelling\n",
    "from sklearn.metrics import mean_squared_error, r2_score\n",
    "from sklearn.neighbors import KNeighborsRegressor\n",
    "from sklearn.tree import DecisionTreeRegressor\n",
    "from sklearn.ensemble import RandomForestRegressor,AdaBoostRegressor\n",
    "from sklearn.svm import SVR\n",
    "from sklearn.linear_model import LinearRegression, Ridge,Lasso\n",
    "from sklearn.metrics import r2_score, mean_absolute_error, mean_squared_error\n",
    "from sklearn.model_selection import RandomizedSearchCV\n",
    "from catboost import CatBoostRegressor\n",
    "from xgboost import XGBRegressor\n",
    "import warnings"
   ]
  },
  {
   "cell_type": "code",
   "execution_count": 4,
   "id": "c2a20342-7eda-4d5c-85ce-294f1508f70e",
   "metadata": {},
   "outputs": [],
   "source": [
    "df = 'data/global air pollution dataset.csv'\n",
    "air = pd.read_csv(df)"
   ]
  },
  {
   "cell_type": "code",
   "execution_count": 5,
   "id": "a5c6e8e7-250a-4bee-b261-bf93dbd27270",
   "metadata": {},
   "outputs": [
    {
     "data": {
      "text/html": [
       "<div>\n",
       "<style scoped>\n",
       "    .dataframe tbody tr th:only-of-type {\n",
       "        vertical-align: middle;\n",
       "    }\n",
       "\n",
       "    .dataframe tbody tr th {\n",
       "        vertical-align: top;\n",
       "    }\n",
       "\n",
       "    .dataframe thead th {\n",
       "        text-align: right;\n",
       "    }\n",
       "</style>\n",
       "<table border=\"1\" class=\"dataframe\">\n",
       "  <thead>\n",
       "    <tr style=\"text-align: right;\">\n",
       "      <th></th>\n",
       "      <th>Country</th>\n",
       "      <th>City</th>\n",
       "      <th>AQI Value</th>\n",
       "      <th>AQI Category</th>\n",
       "      <th>CO AQI Value</th>\n",
       "      <th>CO AQI Category</th>\n",
       "      <th>Ozone AQI Value</th>\n",
       "      <th>Ozone AQI Category</th>\n",
       "      <th>NO2 AQI Value</th>\n",
       "      <th>NO2 AQI Category</th>\n",
       "      <th>PM2.5 AQI Value</th>\n",
       "      <th>PM2.5 AQI Category</th>\n",
       "    </tr>\n",
       "  </thead>\n",
       "  <tbody>\n",
       "    <tr>\n",
       "      <th>0</th>\n",
       "      <td>Russian Federation</td>\n",
       "      <td>Praskoveya</td>\n",
       "      <td>51</td>\n",
       "      <td>Moderate</td>\n",
       "      <td>1</td>\n",
       "      <td>Good</td>\n",
       "      <td>36</td>\n",
       "      <td>Good</td>\n",
       "      <td>0</td>\n",
       "      <td>Good</td>\n",
       "      <td>51</td>\n",
       "      <td>Moderate</td>\n",
       "    </tr>\n",
       "    <tr>\n",
       "      <th>1</th>\n",
       "      <td>Brazil</td>\n",
       "      <td>Presidente Dutra</td>\n",
       "      <td>41</td>\n",
       "      <td>Good</td>\n",
       "      <td>1</td>\n",
       "      <td>Good</td>\n",
       "      <td>5</td>\n",
       "      <td>Good</td>\n",
       "      <td>1</td>\n",
       "      <td>Good</td>\n",
       "      <td>41</td>\n",
       "      <td>Good</td>\n",
       "    </tr>\n",
       "    <tr>\n",
       "      <th>2</th>\n",
       "      <td>Italy</td>\n",
       "      <td>Priolo Gargallo</td>\n",
       "      <td>66</td>\n",
       "      <td>Moderate</td>\n",
       "      <td>1</td>\n",
       "      <td>Good</td>\n",
       "      <td>39</td>\n",
       "      <td>Good</td>\n",
       "      <td>2</td>\n",
       "      <td>Good</td>\n",
       "      <td>66</td>\n",
       "      <td>Moderate</td>\n",
       "    </tr>\n",
       "    <tr>\n",
       "      <th>3</th>\n",
       "      <td>Poland</td>\n",
       "      <td>Przasnysz</td>\n",
       "      <td>34</td>\n",
       "      <td>Good</td>\n",
       "      <td>1</td>\n",
       "      <td>Good</td>\n",
       "      <td>34</td>\n",
       "      <td>Good</td>\n",
       "      <td>0</td>\n",
       "      <td>Good</td>\n",
       "      <td>20</td>\n",
       "      <td>Good</td>\n",
       "    </tr>\n",
       "    <tr>\n",
       "      <th>4</th>\n",
       "      <td>France</td>\n",
       "      <td>Punaauia</td>\n",
       "      <td>22</td>\n",
       "      <td>Good</td>\n",
       "      <td>0</td>\n",
       "      <td>Good</td>\n",
       "      <td>22</td>\n",
       "      <td>Good</td>\n",
       "      <td>0</td>\n",
       "      <td>Good</td>\n",
       "      <td>6</td>\n",
       "      <td>Good</td>\n",
       "    </tr>\n",
       "  </tbody>\n",
       "</table>\n",
       "</div>"
      ],
      "text/plain": [
       "              Country              City  AQI Value AQI Category  CO AQI Value  \\\n",
       "0  Russian Federation        Praskoveya         51     Moderate             1   \n",
       "1              Brazil  Presidente Dutra         41         Good             1   \n",
       "2               Italy   Priolo Gargallo         66     Moderate             1   \n",
       "3              Poland         Przasnysz         34         Good             1   \n",
       "4              France          Punaauia         22         Good             0   \n",
       "\n",
       "  CO AQI Category  Ozone AQI Value Ozone AQI Category  NO2 AQI Value  \\\n",
       "0            Good               36               Good              0   \n",
       "1            Good                5               Good              1   \n",
       "2            Good               39               Good              2   \n",
       "3            Good               34               Good              0   \n",
       "4            Good               22               Good              0   \n",
       "\n",
       "  NO2 AQI Category  PM2.5 AQI Value PM2.5 AQI Category  \n",
       "0             Good               51           Moderate  \n",
       "1             Good               41               Good  \n",
       "2             Good               66           Moderate  \n",
       "3             Good               20               Good  \n",
       "4             Good                6               Good  "
      ]
     },
     "execution_count": 5,
     "metadata": {},
     "output_type": "execute_result"
    }
   ],
   "source": [
    "air.head()"
   ]
  },
  {
   "cell_type": "code",
   "execution_count": 6,
   "id": "df6c300a-72e1-48da-898f-d1147d48143a",
   "metadata": {},
   "outputs": [
    {
     "data": {
      "text/plain": [
       "Country                 175\n",
       "City                  23462\n",
       "AQI Value               347\n",
       "AQI Category              6\n",
       "CO AQI Value             34\n",
       "CO AQI Category           3\n",
       "Ozone AQI Value         213\n",
       "Ozone AQI Category        5\n",
       "NO2 AQI Value            59\n",
       "NO2 AQI Category          2\n",
       "PM2.5 AQI Value         383\n",
       "PM2.5 AQI Category        6\n",
       "dtype: int64"
      ]
     },
     "execution_count": 6,
     "metadata": {},
     "output_type": "execute_result"
    }
   ],
   "source": [
    "air.nunique()"
   ]
  },
  {
   "cell_type": "code",
   "execution_count": 7,
   "id": "2d5fe650-c166-4f3d-8610-ac636d7ffcb1",
   "metadata": {},
   "outputs": [
    {
     "data": {
      "text/plain": [
       "Country               427\n",
       "City                    1\n",
       "AQI Value               0\n",
       "AQI Category            0\n",
       "CO AQI Value            0\n",
       "CO AQI Category         0\n",
       "Ozone AQI Value         0\n",
       "Ozone AQI Category      0\n",
       "NO2 AQI Value           0\n",
       "NO2 AQI Category        0\n",
       "PM2.5 AQI Value         0\n",
       "PM2.5 AQI Category      0\n",
       "dtype: int64"
      ]
     },
     "execution_count": 7,
     "metadata": {},
     "output_type": "execute_result"
    }
   ],
   "source": [
    "air.isnull().sum()"
   ]
  },
  {
   "cell_type": "code",
   "execution_count": 8,
   "id": "2746d4db-9b21-402e-b06f-36c4150d0a39",
   "metadata": {},
   "outputs": [
    {
     "data": {
      "text/plain": [
       "Country\n",
       "United States of America    2872\n",
       "India                       2488\n",
       "Brazil                      1562\n",
       "Germany                     1345\n",
       "Russian Federation          1241\n",
       "                            ... \n",
       "Vanuatu                        1\n",
       "Solomon Islands                1\n",
       "Republic of Korea              1\n",
       "Saint Lucia                    1\n",
       "Monaco                         1\n",
       "Name: count, Length: 175, dtype: int64"
      ]
     },
     "execution_count": 8,
     "metadata": {},
     "output_type": "execute_result"
    }
   ],
   "source": [
    "air[\"Country\"].value_counts()"
   ]
  },
  {
   "cell_type": "code",
   "execution_count": 9,
   "id": "cc4a84a2-36bf-4cbb-be0e-28c42b7d382f",
   "metadata": {},
   "outputs": [],
   "source": [
    "# dropping 'PM2.5 Value' parameters since it is highly correlated with 'AQI Value' with correlation = 0.98\n",
    "air.drop(columns=['PM2.5 AQI Category', 'City','PM2.5 AQI Value'],inplace=True)"
   ]
  },
  {
   "cell_type": "code",
   "execution_count": 10,
   "id": "07d5783f-0b50-4d12-9d3c-5d8b5948e3fe",
   "metadata": {},
   "outputs": [
    {
     "data": {
      "text/html": [
       "<div>\n",
       "<style scoped>\n",
       "    .dataframe tbody tr th:only-of-type {\n",
       "        vertical-align: middle;\n",
       "    }\n",
       "\n",
       "    .dataframe tbody tr th {\n",
       "        vertical-align: top;\n",
       "    }\n",
       "\n",
       "    .dataframe thead th {\n",
       "        text-align: right;\n",
       "    }\n",
       "</style>\n",
       "<table border=\"1\" class=\"dataframe\">\n",
       "  <thead>\n",
       "    <tr style=\"text-align: right;\">\n",
       "      <th></th>\n",
       "      <th>Country</th>\n",
       "      <th>AQI Value</th>\n",
       "      <th>AQI Category</th>\n",
       "      <th>CO AQI Value</th>\n",
       "      <th>CO AQI Category</th>\n",
       "      <th>Ozone AQI Value</th>\n",
       "      <th>Ozone AQI Category</th>\n",
       "      <th>NO2 AQI Value</th>\n",
       "      <th>NO2 AQI Category</th>\n",
       "    </tr>\n",
       "  </thead>\n",
       "  <tbody>\n",
       "    <tr>\n",
       "      <th>0</th>\n",
       "      <td>Russian Federation</td>\n",
       "      <td>51</td>\n",
       "      <td>Moderate</td>\n",
       "      <td>1</td>\n",
       "      <td>Good</td>\n",
       "      <td>36</td>\n",
       "      <td>Good</td>\n",
       "      <td>0</td>\n",
       "      <td>Good</td>\n",
       "    </tr>\n",
       "    <tr>\n",
       "      <th>1</th>\n",
       "      <td>Brazil</td>\n",
       "      <td>41</td>\n",
       "      <td>Good</td>\n",
       "      <td>1</td>\n",
       "      <td>Good</td>\n",
       "      <td>5</td>\n",
       "      <td>Good</td>\n",
       "      <td>1</td>\n",
       "      <td>Good</td>\n",
       "    </tr>\n",
       "    <tr>\n",
       "      <th>2</th>\n",
       "      <td>Italy</td>\n",
       "      <td>66</td>\n",
       "      <td>Moderate</td>\n",
       "      <td>1</td>\n",
       "      <td>Good</td>\n",
       "      <td>39</td>\n",
       "      <td>Good</td>\n",
       "      <td>2</td>\n",
       "      <td>Good</td>\n",
       "    </tr>\n",
       "    <tr>\n",
       "      <th>3</th>\n",
       "      <td>Poland</td>\n",
       "      <td>34</td>\n",
       "      <td>Good</td>\n",
       "      <td>1</td>\n",
       "      <td>Good</td>\n",
       "      <td>34</td>\n",
       "      <td>Good</td>\n",
       "      <td>0</td>\n",
       "      <td>Good</td>\n",
       "    </tr>\n",
       "    <tr>\n",
       "      <th>4</th>\n",
       "      <td>France</td>\n",
       "      <td>22</td>\n",
       "      <td>Good</td>\n",
       "      <td>0</td>\n",
       "      <td>Good</td>\n",
       "      <td>22</td>\n",
       "      <td>Good</td>\n",
       "      <td>0</td>\n",
       "      <td>Good</td>\n",
       "    </tr>\n",
       "  </tbody>\n",
       "</table>\n",
       "</div>"
      ],
      "text/plain": [
       "              Country  AQI Value AQI Category  CO AQI Value CO AQI Category  \\\n",
       "0  Russian Federation         51     Moderate             1            Good   \n",
       "1              Brazil         41         Good             1            Good   \n",
       "2               Italy         66     Moderate             1            Good   \n",
       "3              Poland         34         Good             1            Good   \n",
       "4              France         22         Good             0            Good   \n",
       "\n",
       "   Ozone AQI Value Ozone AQI Category  NO2 AQI Value NO2 AQI Category  \n",
       "0               36               Good              0             Good  \n",
       "1                5               Good              1             Good  \n",
       "2               39               Good              2             Good  \n",
       "3               34               Good              0             Good  \n",
       "4               22               Good              0             Good  "
      ]
     },
     "execution_count": 10,
     "metadata": {},
     "output_type": "execute_result"
    }
   ],
   "source": [
    "air.head()"
   ]
  },
  {
   "cell_type": "code",
   "execution_count": 11,
   "id": "e495ceee-5cf7-4dad-a423-4851f4d8f37a",
   "metadata": {},
   "outputs": [
    {
     "data": {
      "text/plain": [
       "(23463, 9)"
      ]
     },
     "execution_count": 11,
     "metadata": {},
     "output_type": "execute_result"
    }
   ],
   "source": [
    "air.shape"
   ]
  },
  {
   "cell_type": "code",
   "execution_count": 12,
   "id": "a8611e5f-d72e-4550-93e4-6c9cabf775ad",
   "metadata": {},
   "outputs": [],
   "source": [
    "air.dropna(inplace=True)"
   ]
  },
  {
   "cell_type": "code",
   "execution_count": 13,
   "id": "8e757e4d-a30f-42b5-982a-43fcf6f9b17e",
   "metadata": {},
   "outputs": [
    {
     "data": {
      "text/plain": [
       "(23036, 9)"
      ]
     },
     "execution_count": 13,
     "metadata": {},
     "output_type": "execute_result"
    }
   ],
   "source": [
    "air.shape"
   ]
  },
  {
   "cell_type": "code",
   "execution_count": 14,
   "id": "ec03acf8-adc2-4204-9509-9091e002ed13",
   "metadata": {},
   "outputs": [
    {
     "data": {
      "text/plain": [
       "Country               0\n",
       "AQI Value             0\n",
       "AQI Category          0\n",
       "CO AQI Value          0\n",
       "CO AQI Category       0\n",
       "Ozone AQI Value       0\n",
       "Ozone AQI Category    0\n",
       "NO2 AQI Value         0\n",
       "NO2 AQI Category      0\n",
       "dtype: int64"
      ]
     },
     "execution_count": 14,
     "metadata": {},
     "output_type": "execute_result"
    }
   ],
   "source": [
    "air.isnull().sum()"
   ]
  },
  {
   "cell_type": "code",
   "execution_count": 15,
   "id": "85447100-1cbd-4e76-af3c-aeb7b87b475a",
   "metadata": {},
   "outputs": [
    {
     "data": {
      "text/html": [
       "<div>\n",
       "<style scoped>\n",
       "    .dataframe tbody tr th:only-of-type {\n",
       "        vertical-align: middle;\n",
       "    }\n",
       "\n",
       "    .dataframe tbody tr th {\n",
       "        vertical-align: top;\n",
       "    }\n",
       "\n",
       "    .dataframe thead th {\n",
       "        text-align: right;\n",
       "    }\n",
       "</style>\n",
       "<table border=\"1\" class=\"dataframe\">\n",
       "  <thead>\n",
       "    <tr style=\"text-align: right;\">\n",
       "      <th></th>\n",
       "      <th>Country</th>\n",
       "      <th>Count</th>\n",
       "    </tr>\n",
       "  </thead>\n",
       "  <tbody>\n",
       "    <tr>\n",
       "      <th>0</th>\n",
       "      <td>Argentina</td>\n",
       "      <td>68</td>\n",
       "    </tr>\n",
       "    <tr>\n",
       "      <th>1</th>\n",
       "      <td>Australia</td>\n",
       "      <td>85</td>\n",
       "    </tr>\n",
       "    <tr>\n",
       "      <th>2</th>\n",
       "      <td>Austria</td>\n",
       "      <td>68</td>\n",
       "    </tr>\n",
       "    <tr>\n",
       "      <th>3</th>\n",
       "      <td>Bangladesh</td>\n",
       "      <td>80</td>\n",
       "    </tr>\n",
       "    <tr>\n",
       "      <th>4</th>\n",
       "      <td>Belgium</td>\n",
       "      <td>284</td>\n",
       "    </tr>\n",
       "    <tr>\n",
       "      <th>...</th>\n",
       "      <td>...</td>\n",
       "      <td>...</td>\n",
       "    </tr>\n",
       "    <tr>\n",
       "      <th>58</th>\n",
       "      <td>United Republic of Tanzania</td>\n",
       "      <td>229</td>\n",
       "    </tr>\n",
       "    <tr>\n",
       "      <th>59</th>\n",
       "      <td>United States of America</td>\n",
       "      <td>2872</td>\n",
       "    </tr>\n",
       "    <tr>\n",
       "      <th>60</th>\n",
       "      <td>Uzbekistan</td>\n",
       "      <td>58</td>\n",
       "    </tr>\n",
       "    <tr>\n",
       "      <th>61</th>\n",
       "      <td>Venezuela (Bolivarian Republic of)</td>\n",
       "      <td>90</td>\n",
       "    </tr>\n",
       "    <tr>\n",
       "      <th>62</th>\n",
       "      <td>Viet Nam</td>\n",
       "      <td>60</td>\n",
       "    </tr>\n",
       "  </tbody>\n",
       "</table>\n",
       "<p>63 rows × 2 columns</p>\n",
       "</div>"
      ],
      "text/plain": [
       "                               Country  Count\n",
       "0                            Argentina     68\n",
       "1                            Australia     85\n",
       "2                              Austria     68\n",
       "3                           Bangladesh     80\n",
       "4                              Belgium    284\n",
       "..                                 ...    ...\n",
       "58         United Republic of Tanzania    229\n",
       "59            United States of America   2872\n",
       "60                          Uzbekistan     58\n",
       "61  Venezuela (Bolivarian Republic of)     90\n",
       "62                            Viet Nam     60\n",
       "\n",
       "[63 rows x 2 columns]"
      ]
     },
     "execution_count": 15,
     "metadata": {},
     "output_type": "execute_result"
    }
   ],
   "source": [
    "# Assuming 'air' is your DataFrame\n",
    "# Step 1: Count occurrences of each country\n",
    "country_counts = air['Country'].value_counts()\n",
    "\n",
    "# Step 2: Identify countries with a count below 50\n",
    "other_countries = country_counts[country_counts < 50].index\n",
    "\n",
    "# Step 3: Replace countries with less than 50 occurrences with 'Others'\n",
    "air['Country'] = air['Country'].apply(lambda x: 'Others' if x in other_countries else x)\n",
    "\n",
    "# Step 4: Group by 'Country' and count occurrences\n",
    "grouped_data = air.groupby('Country').size().reset_index(name='Count')\n",
    "\n",
    "grouped_data"
   ]
  },
  {
   "cell_type": "code",
   "execution_count": 16,
   "id": "3cbe7bd1-de26-4295-8d0a-b8c6d91eba0a",
   "metadata": {},
   "outputs": [
    {
     "data": {
      "text/plain": [
       "Country\n",
       "United States of America    2872\n",
       "India                       2488\n",
       "Others                      1926\n",
       "Brazil                      1562\n",
       "Germany                     1345\n",
       "                            ... \n",
       "Denmark                       60\n",
       "Kenya                         60\n",
       "Myanmar                       59\n",
       "Ghana                         58\n",
       "Uzbekistan                    58\n",
       "Name: count, Length: 63, dtype: int64"
      ]
     },
     "execution_count": 16,
     "metadata": {},
     "output_type": "execute_result"
    }
   ],
   "source": [
    "air['Country'].value_counts()"
   ]
  },
  {
   "cell_type": "code",
   "execution_count": 17,
   "id": "ae7b7b0f-e1cc-483f-8f16-0492aca661a3",
   "metadata": {},
   "outputs": [],
   "source": [
    "X = air.drop(columns=['AQI Value'],axis=1)"
   ]
  },
  {
   "cell_type": "code",
   "execution_count": 18,
   "id": "10d1a96f-a56a-490c-a37d-091dcd1795c3",
   "metadata": {},
   "outputs": [
    {
     "data": {
      "text/html": [
       "<div>\n",
       "<style scoped>\n",
       "    .dataframe tbody tr th:only-of-type {\n",
       "        vertical-align: middle;\n",
       "    }\n",
       "\n",
       "    .dataframe tbody tr th {\n",
       "        vertical-align: top;\n",
       "    }\n",
       "\n",
       "    .dataframe thead th {\n",
       "        text-align: right;\n",
       "    }\n",
       "</style>\n",
       "<table border=\"1\" class=\"dataframe\">\n",
       "  <thead>\n",
       "    <tr style=\"text-align: right;\">\n",
       "      <th></th>\n",
       "      <th>Country</th>\n",
       "      <th>AQI Category</th>\n",
       "      <th>CO AQI Value</th>\n",
       "      <th>CO AQI Category</th>\n",
       "      <th>Ozone AQI Value</th>\n",
       "      <th>Ozone AQI Category</th>\n",
       "      <th>NO2 AQI Value</th>\n",
       "      <th>NO2 AQI Category</th>\n",
       "    </tr>\n",
       "  </thead>\n",
       "  <tbody>\n",
       "    <tr>\n",
       "      <th>0</th>\n",
       "      <td>Russian Federation</td>\n",
       "      <td>Moderate</td>\n",
       "      <td>1</td>\n",
       "      <td>Good</td>\n",
       "      <td>36</td>\n",
       "      <td>Good</td>\n",
       "      <td>0</td>\n",
       "      <td>Good</td>\n",
       "    </tr>\n",
       "    <tr>\n",
       "      <th>1</th>\n",
       "      <td>Brazil</td>\n",
       "      <td>Good</td>\n",
       "      <td>1</td>\n",
       "      <td>Good</td>\n",
       "      <td>5</td>\n",
       "      <td>Good</td>\n",
       "      <td>1</td>\n",
       "      <td>Good</td>\n",
       "    </tr>\n",
       "    <tr>\n",
       "      <th>2</th>\n",
       "      <td>Italy</td>\n",
       "      <td>Moderate</td>\n",
       "      <td>1</td>\n",
       "      <td>Good</td>\n",
       "      <td>39</td>\n",
       "      <td>Good</td>\n",
       "      <td>2</td>\n",
       "      <td>Good</td>\n",
       "    </tr>\n",
       "    <tr>\n",
       "      <th>3</th>\n",
       "      <td>Poland</td>\n",
       "      <td>Good</td>\n",
       "      <td>1</td>\n",
       "      <td>Good</td>\n",
       "      <td>34</td>\n",
       "      <td>Good</td>\n",
       "      <td>0</td>\n",
       "      <td>Good</td>\n",
       "    </tr>\n",
       "    <tr>\n",
       "      <th>4</th>\n",
       "      <td>France</td>\n",
       "      <td>Good</td>\n",
       "      <td>0</td>\n",
       "      <td>Good</td>\n",
       "      <td>22</td>\n",
       "      <td>Good</td>\n",
       "      <td>0</td>\n",
       "      <td>Good</td>\n",
       "    </tr>\n",
       "  </tbody>\n",
       "</table>\n",
       "</div>"
      ],
      "text/plain": [
       "              Country AQI Category  CO AQI Value CO AQI Category  \\\n",
       "0  Russian Federation     Moderate             1            Good   \n",
       "1              Brazil         Good             1            Good   \n",
       "2               Italy     Moderate             1            Good   \n",
       "3              Poland         Good             1            Good   \n",
       "4              France         Good             0            Good   \n",
       "\n",
       "   Ozone AQI Value Ozone AQI Category  NO2 AQI Value NO2 AQI Category  \n",
       "0               36               Good              0             Good  \n",
       "1                5               Good              1             Good  \n",
       "2               39               Good              2             Good  \n",
       "3               34               Good              0             Good  \n",
       "4               22               Good              0             Good  "
      ]
     },
     "execution_count": 18,
     "metadata": {},
     "output_type": "execute_result"
    }
   ],
   "source": [
    "X.head()"
   ]
  },
  {
   "cell_type": "code",
   "execution_count": 19,
   "id": "eefae04c-bdf8-4e6b-ba8a-5c9e85c5f157",
   "metadata": {},
   "outputs": [],
   "source": [
    "y = air['AQI Value']"
   ]
  },
  {
   "cell_type": "code",
   "execution_count": 20,
   "id": "b2f6ece5-f3cc-4019-9654-2ca99760f32d",
   "metadata": {},
   "outputs": [
    {
     "data": {
      "text/plain": [
       "0    51\n",
       "1    41\n",
       "2    66\n",
       "3    34\n",
       "4    22\n",
       "Name: AQI Value, dtype: int64"
      ]
     },
     "execution_count": 20,
     "metadata": {},
     "output_type": "execute_result"
    }
   ],
   "source": [
    "y.head()"
   ]
  },
  {
   "cell_type": "code",
   "execution_count": 21,
   "id": "102059da-ba20-4136-8d3e-20ddcad83d24",
   "metadata": {},
   "outputs": [],
   "source": [
    "from sklearn.impute import SimpleImputer\n",
    "from sklearn.preprocessing import OneHotEncoder\n",
    "from sklearn.preprocessing import OrdinalEncoder\n",
    "from sklearn.compose import ColumnTransformer"
   ]
  },
  {
   "cell_type": "code",
   "execution_count": 22,
   "id": "43a8c092-6841-4dc9-8fa8-58df29668781",
   "metadata": {},
   "outputs": [],
   "source": [
    "ordinal_categories = ['Good', 'Moderate', 'Unhealthy for Sensitive Groups', 'Unhealthy', 'Very Unhealthy', 'Hazardous']\n",
    "ordinal_features = ['CO AQI Category', 'Ozone AQI Category', 'NO2 AQI Category', 'AQI Category']\n",
    "\n",
    "preprocessor = ColumnTransformer(transformers=[\n",
    "    ('tnf1', SimpleImputer(), ['CO AQI Value', 'Ozone AQI Value', 'NO2 AQI Value']),\n",
    "    ('tnf2', OrdinalEncoder(categories=[ordinal_categories] * len(ordinal_features), dtype=int), ['CO AQI Category', 'Ozone AQI Category', 'NO2 AQI Category', 'AQI Category']),\n",
    "    ('tnf3', OneHotEncoder(sparse_output=False, drop='first', dtype=int), ['Country'])\n",
    "], remainder='passthrough')"
   ]
  },
  {
   "cell_type": "code",
   "execution_count": 23,
   "id": "8f8357ca-34b2-4734-935e-348d1667fcec",
   "metadata": {},
   "outputs": [],
   "source": [
    "X = preprocessor.fit_transform(X)"
   ]
  },
  {
   "cell_type": "code",
   "execution_count": 24,
   "id": "fc2e6ec4-b53c-4f05-a4ba-2a10f15ef5ec",
   "metadata": {},
   "outputs": [
    {
     "data": {
      "text/plain": [
       "(23036, 69)"
      ]
     },
     "execution_count": 24,
     "metadata": {},
     "output_type": "execute_result"
    }
   ],
   "source": [
    "X.shape"
   ]
  },
  {
   "cell_type": "code",
   "execution_count": 25,
   "id": "c0e313c7-c171-46d1-9db0-fcd97d891fbb",
   "metadata": {},
   "outputs": [
    {
     "data": {
      "text/plain": [
       "((18428, 69), (4608, 69))"
      ]
     },
     "execution_count": 25,
     "metadata": {},
     "output_type": "execute_result"
    }
   ],
   "source": [
    "# separate dataset into train and test\n",
    "from sklearn.model_selection import train_test_split\n",
    "X_train, X_test, y_train, y_test = train_test_split(X,y,test_size=0.2,random_state=42)\n",
    "X_train.shape, X_test.shape"
   ]
  },
  {
   "cell_type": "code",
   "execution_count": 26,
   "id": "4f507888-bf54-4916-b559-5ac4e92dfc5d",
   "metadata": {},
   "outputs": [
    {
     "data": {
      "text/plain": [
       "array([[ 2.,  4.,  3., ...,  0.,  0.,  0.],\n",
       "       [ 0., 24.,  0., ...,  0.,  0.,  0.],\n",
       "       [ 0., 38.,  0., ...,  0.,  0.,  0.],\n",
       "       ...,\n",
       "       [ 5., 14.,  3., ...,  0.,  0.,  0.],\n",
       "       [ 1., 14.,  3., ...,  0.,  0.,  0.],\n",
       "       [ 1., 61.,  1., ...,  0.,  0.,  0.]])"
      ]
     },
     "execution_count": 26,
     "metadata": {},
     "output_type": "execute_result"
    }
   ],
   "source": [
    "X_train"
   ]
  },
  {
   "cell_type": "code",
   "execution_count": 27,
   "id": "5d510482-5b58-4289-afd6-16716f67dbb8",
   "metadata": {},
   "outputs": [
    {
     "data": {
      "text/plain": [
       "(18428, 69)"
      ]
     },
     "execution_count": 27,
     "metadata": {},
     "output_type": "execute_result"
    }
   ],
   "source": [
    "X_train.shape"
   ]
  },
  {
   "cell_type": "code",
   "execution_count": 28,
   "id": "4a4d5124-7d3d-435d-9738-699ee1be1e24",
   "metadata": {},
   "outputs": [
    {
     "data": {
      "text/plain": [
       "array([[ 2., 23.,  0., ...,  0.,  0.,  0.],\n",
       "       [ 1., 43.,  0., ...,  0.,  0.,  0.],\n",
       "       [ 0., 37.,  0., ...,  0.,  0.,  0.],\n",
       "       ...,\n",
       "       [ 4., 41.,  4., ...,  0.,  0.,  0.],\n",
       "       [ 1.,  5.,  4., ...,  0.,  0.,  0.],\n",
       "       [ 1., 39.,  0., ...,  0.,  0.,  0.]])"
      ]
     },
     "execution_count": 28,
     "metadata": {},
     "output_type": "execute_result"
    }
   ],
   "source": [
    "X_test"
   ]
  },
  {
   "cell_type": "code",
   "execution_count": 29,
   "id": "70bda787-5c15-4915-bbd9-67137e553bc5",
   "metadata": {},
   "outputs": [
    {
     "data": {
      "text/plain": [
       "(4608, 69)"
      ]
     },
     "execution_count": 29,
     "metadata": {},
     "output_type": "execute_result"
    }
   ],
   "source": [
    "X_test.shape"
   ]
  },
  {
   "cell_type": "code",
   "execution_count": 30,
   "id": "6a8f90ce-1e3c-40dd-b588-ec8ebafef173",
   "metadata": {},
   "outputs": [],
   "source": [
    "def evaluate_model(true, predicted):\n",
    "    mae = mean_absolute_error(true, predicted)\n",
    "    mse = mean_squared_error(true, predicted)\n",
    "    rmse = np.sqrt(mean_squared_error(true, predicted))\n",
    "    r2_square = r2_score(true, predicted)\n",
    "    return mae, rmse, r2_square"
   ]
  },
  {
   "cell_type": "code",
   "execution_count": 31,
   "id": "23a98677-0276-4aed-a486-0f1ba7e32f50",
   "metadata": {},
   "outputs": [
    {
     "name": "stdout",
     "output_type": "stream",
     "text": [
      "Linear Regression\n",
      "Model performance for Training set\n",
      "- Root Mean Squared Error: 21.3918\n",
      "- Mean Absolute Error: 12.7616\n",
      "- R2 Score: 0.8553\n",
      "----------------------------------\n",
      "Model performance for Test set\n",
      "- Root Mean Squared Error: 22.1203\n",
      "- Mean Absolute Error: 12.8885\n",
      "- R2 Score: 0.8486\n",
      "===================================\n",
      "\n",
      "\n",
      "Lasso\n",
      "Model performance for Training set\n",
      "- Root Mean Squared Error: 21.9566\n",
      "- Mean Absolute Error: 13.1341\n",
      "- R2 Score: 0.8475\n",
      "----------------------------------\n",
      "Model performance for Test set\n",
      "- Root Mean Squared Error: 22.6743\n",
      "- Mean Absolute Error: 13.2162\n",
      "- R2 Score: 0.8409\n",
      "===================================\n",
      "\n",
      "\n",
      "Ridge\n",
      "Model performance for Training set\n",
      "- Root Mean Squared Error: 21.3920\n",
      "- Mean Absolute Error: 12.7596\n",
      "- R2 Score: 0.8553\n",
      "----------------------------------\n",
      "Model performance for Test set\n",
      "- Root Mean Squared Error: 22.1191\n",
      "- Mean Absolute Error: 12.8852\n",
      "- R2 Score: 0.8486\n",
      "===================================\n",
      "\n",
      "\n",
      "K-Neighbors Regressor\n",
      "Model performance for Training set\n",
      "- Root Mean Squared Error: 14.4850\n",
      "- Mean Absolute Error: 7.4758\n",
      "- R2 Score: 0.9336\n",
      "----------------------------------\n",
      "Model performance for Test set\n",
      "- Root Mean Squared Error: 18.6768\n",
      "- Mean Absolute Error: 9.4497\n",
      "- R2 Score: 0.8921\n",
      "===================================\n",
      "\n",
      "\n",
      "Decision Tree\n",
      "Model performance for Training set\n",
      "- Root Mean Squared Error: 5.7655\n",
      "- Mean Absolute Error: 2.8570\n",
      "- R2 Score: 0.9895\n",
      "----------------------------------\n",
      "Model performance for Test set\n",
      "- Root Mean Squared Error: 13.6995\n",
      "- Mean Absolute Error: 7.5679\n",
      "- R2 Score: 0.9419\n",
      "===================================\n",
      "\n",
      "\n",
      "Random Forest Regressor\n",
      "Model performance for Training set\n",
      "- Root Mean Squared Error: 6.5857\n",
      "- Mean Absolute Error: 3.9808\n",
      "- R2 Score: 0.9863\n",
      "----------------------------------\n",
      "Model performance for Test set\n",
      "- Root Mean Squared Error: 11.9875\n",
      "- Mean Absolute Error: 6.9218\n",
      "- R2 Score: 0.9555\n",
      "===================================\n",
      "\n",
      "\n",
      "XGBRegressor\n",
      "Model performance for Training set\n",
      "- Root Mean Squared Error: 8.4667\n",
      "- Mean Absolute Error: 5.8819\n",
      "- R2 Score: 0.9773\n",
      "----------------------------------\n",
      "Model performance for Test set\n",
      "- Root Mean Squared Error: 11.9909\n",
      "- Mean Absolute Error: 7.1158\n",
      "- R2 Score: 0.9555\n",
      "===================================\n",
      "\n",
      "\n",
      "CatBoosting Regressor\n",
      "Model performance for Training set\n",
      "- Root Mean Squared Error: 9.1526\n",
      "- Mean Absolute Error: 6.4054\n",
      "- R2 Score: 0.9735\n",
      "----------------------------------\n",
      "Model performance for Test set\n",
      "- Root Mean Squared Error: 11.7683\n",
      "- Mean Absolute Error: 7.2264\n",
      "- R2 Score: 0.9572\n",
      "===================================\n",
      "\n",
      "\n",
      "AdaBoost Regressor\n",
      "Model performance for Training set\n",
      "- Root Mean Squared Error: 13.0726\n",
      "- Mean Absolute Error: 9.3697\n",
      "- R2 Score: 0.9460\n",
      "----------------------------------\n",
      "Model performance for Test set\n",
      "- Root Mean Squared Error: 13.5043\n",
      "- Mean Absolute Error: 9.4768\n",
      "- R2 Score: 0.9436\n",
      "===================================\n",
      "\n",
      "\n"
     ]
    }
   ],
   "source": [
    "models = {\n",
    "    \"Linear Regression\": LinearRegression(),\n",
    "    \"Lasso\": Lasso(),\n",
    "    \"Ridge\": Ridge(),\n",
    "    \"K-Neighbors Regressor\": KNeighborsRegressor(),\n",
    "    \"Decision Tree\": DecisionTreeRegressor(),\n",
    "    \"Random Forest Regressor\": RandomForestRegressor(),\n",
    "    \"XGBRegressor\": XGBRegressor(), \n",
    "    \"CatBoosting Regressor\": CatBoostRegressor(verbose=False),\n",
    "    \"AdaBoost Regressor\": AdaBoostRegressor()\n",
    "}\n",
    "model_list = []\n",
    "r2_list =[]\n",
    "\n",
    "for i in range(len(list(models))):\n",
    "    model = list(models.values())[i]\n",
    "    model.fit(X_train, y_train) # Train model\n",
    "\n",
    "    # Make predictions\n",
    "    y_train_pred = model.predict(X_train)\n",
    "    y_test_pred = model.predict(X_test)\n",
    "    \n",
    "    # Evaluate Train and Test dataset\n",
    "    model_train_mae , model_train_rmse, model_train_r2 = evaluate_model(y_train, y_train_pred)\n",
    "\n",
    "    model_test_mae , model_test_rmse, model_test_r2 = evaluate_model(y_test, y_test_pred)\n",
    "\n",
    "    \n",
    "    print(list(models.keys())[i])\n",
    "    model_list.append(list(models.keys())[i])\n",
    "    \n",
    "    print('Model performance for Training set')\n",
    "    print(\"- Root Mean Squared Error: {:.4f}\".format(model_train_rmse))\n",
    "    print(\"- Mean Absolute Error: {:.4f}\".format(model_train_mae))\n",
    "    print(\"- R2 Score: {:.4f}\".format(model_train_r2))\n",
    "\n",
    "    print('----------------------------------')\n",
    "    \n",
    "    print('Model performance for Test set')\n",
    "    print(\"- Root Mean Squared Error: {:.4f}\".format(model_test_rmse))\n",
    "    print(\"- Mean Absolute Error: {:.4f}\".format(model_test_mae))\n",
    "    print(\"- R2 Score: {:.4f}\".format(model_test_r2))\n",
    "    r2_list.append(model_test_r2)\n",
    "    \n",
    "    print('='*35)\n",
    "    print('\\n')"
   ]
  },
  {
   "cell_type": "code",
   "execution_count": 32,
   "id": "52620c6f-5cfe-452d-81b3-62c80e7c003d",
   "metadata": {},
   "outputs": [
    {
     "data": {
      "text/html": [
       "<div>\n",
       "<style scoped>\n",
       "    .dataframe tbody tr th:only-of-type {\n",
       "        vertical-align: middle;\n",
       "    }\n",
       "\n",
       "    .dataframe tbody tr th {\n",
       "        vertical-align: top;\n",
       "    }\n",
       "\n",
       "    .dataframe thead th {\n",
       "        text-align: right;\n",
       "    }\n",
       "</style>\n",
       "<table border=\"1\" class=\"dataframe\">\n",
       "  <thead>\n",
       "    <tr style=\"text-align: right;\">\n",
       "      <th></th>\n",
       "      <th>Model Name</th>\n",
       "      <th>R2_Score</th>\n",
       "    </tr>\n",
       "  </thead>\n",
       "  <tbody>\n",
       "    <tr>\n",
       "      <th>7</th>\n",
       "      <td>CatBoosting Regressor</td>\n",
       "      <td>0.957156</td>\n",
       "    </tr>\n",
       "    <tr>\n",
       "      <th>5</th>\n",
       "      <td>Random Forest Regressor</td>\n",
       "      <td>0.955545</td>\n",
       "    </tr>\n",
       "    <tr>\n",
       "      <th>6</th>\n",
       "      <td>XGBRegressor</td>\n",
       "      <td>0.955519</td>\n",
       "    </tr>\n",
       "    <tr>\n",
       "      <th>8</th>\n",
       "      <td>AdaBoost Regressor</td>\n",
       "      <td>0.943583</td>\n",
       "    </tr>\n",
       "    <tr>\n",
       "      <th>4</th>\n",
       "      <td>Decision Tree</td>\n",
       "      <td>0.941941</td>\n",
       "    </tr>\n",
       "    <tr>\n",
       "      <th>3</th>\n",
       "      <td>K-Neighbors Regressor</td>\n",
       "      <td>0.892088</td>\n",
       "    </tr>\n",
       "    <tr>\n",
       "      <th>2</th>\n",
       "      <td>Ridge</td>\n",
       "      <td>0.848644</td>\n",
       "    </tr>\n",
       "    <tr>\n",
       "      <th>0</th>\n",
       "      <td>Linear Regression</td>\n",
       "      <td>0.848628</td>\n",
       "    </tr>\n",
       "    <tr>\n",
       "      <th>1</th>\n",
       "      <td>Lasso</td>\n",
       "      <td>0.840950</td>\n",
       "    </tr>\n",
       "  </tbody>\n",
       "</table>\n",
       "</div>"
      ],
      "text/plain": [
       "                Model Name  R2_Score\n",
       "7    CatBoosting Regressor  0.957156\n",
       "5  Random Forest Regressor  0.955545\n",
       "6             XGBRegressor  0.955519\n",
       "8       AdaBoost Regressor  0.943583\n",
       "4            Decision Tree  0.941941\n",
       "3    K-Neighbors Regressor  0.892088\n",
       "2                    Ridge  0.848644\n",
       "0        Linear Regression  0.848628\n",
       "1                    Lasso  0.840950"
      ]
     },
     "execution_count": 32,
     "metadata": {},
     "output_type": "execute_result"
    }
   ],
   "source": [
    "pd.DataFrame(list(zip(model_list, r2_list)), columns=['Model Name', 'R2_Score']).sort_values(by=[\"R2_Score\"],ascending=False)"
   ]
  },
  {
   "cell_type": "code",
   "execution_count": 33,
   "id": "65d1707e-84dd-4aae-ab47-2031a6131f35",
   "metadata": {},
   "outputs": [
    {
     "name": "stdout",
     "output_type": "stream",
     "text": [
      "Model: Linear Regression\n",
      "Training MSE: 457.6070, Testing MSE: 489.3060\n",
      "Training R²: 0.8553, Testing R²: 0.8486\n",
      "Cross-Validation R² (Mean ± Std): -37621898979463024.0000 ± 75243797958926032.0000\n",
      "========================================\n",
      "Possible overfitting detected for this model.\n",
      "\n",
      "Model: Lasso\n",
      "Training MSE: 482.0915, Testing MSE: 514.1253\n",
      "Training R²: 0.8475, Testing R²: 0.8409\n",
      "Cross-Validation R² (Mean ± Std): 0.8475 ± 0.0095\n",
      "========================================\n",
      "Possible overfitting detected for this model.\n",
      "\n",
      "Model: Ridge\n",
      "Training MSE: 457.6162, Testing MSE: 489.2538\n",
      "Training R²: 0.8553, Testing R²: 0.8486\n",
      "Cross-Validation R² (Mean ± Std): 0.8547 ± 0.0086\n",
      "========================================\n",
      "Possible overfitting detected for this model.\n",
      "\n",
      "Model: K-Neighbors Regressor\n",
      "Training MSE: 209.8149, Testing MSE: 348.8217\n",
      "Training R²: 0.9336, Testing R²: 0.8921\n",
      "Cross-Validation R² (Mean ± Std): 0.8897 ± 0.0102\n",
      "========================================\n",
      "Possible overfitting detected for this model.\n",
      "\n",
      "Model: Decision Tree\n",
      "Training MSE: 33.2414, Testing MSE: 187.7631\n",
      "Training R²: 0.9895, Testing R²: 0.9419\n",
      "Cross-Validation R² (Mean ± Std): 0.9438 ± 0.0079\n",
      "========================================\n",
      "Possible overfitting detected for this model.\n",
      "\n",
      "Model: Random Forest Regressor\n",
      "Training MSE: 42.8899, Testing MSE: 146.8401\n",
      "Training R²: 0.9864, Testing R²: 0.9546\n",
      "Cross-Validation R² (Mean ± Std): 0.9585 ± 0.0062\n",
      "========================================\n",
      "Possible overfitting detected for this model.\n",
      "\n",
      "Model: XGBRegressor\n",
      "Training MSE: 71.6852, Testing MSE: 143.7822\n",
      "Training R²: 0.9773, Testing R²: 0.9555\n",
      "Cross-Validation R² (Mean ± Std): 0.9605 ± 0.0070\n",
      "========================================\n",
      "Possible overfitting detected for this model.\n",
      "\n",
      "Model: CatBoosting Regressor\n",
      "Training MSE: 83.7699, Testing MSE: 138.4931\n",
      "Training R²: 0.9735, Testing R²: 0.9572\n",
      "Cross-Validation R² (Mean ± Std): 0.9617 ± 0.0061\n",
      "========================================\n",
      "Possible overfitting detected for this model.\n",
      "\n",
      "Model: AdaBoost Regressor\n",
      "Training MSE: 162.9170, Testing MSE: 172.9665\n",
      "Training R²: 0.9485, Testing R²: 0.9465\n",
      "Cross-Validation R² (Mean ± Std): 0.9464 ± 0.0032\n",
      "========================================\n",
      "Possible overfitting detected for this model.\n",
      "\n"
     ]
    }
   ],
   "source": [
    "from sklearn.metrics import mean_squared_error, r2_score\n",
    "from sklearn.model_selection import cross_val_score\n",
    "import numpy as np\n",
    "\n",
    "# Iterate through each model in your list or dictionary\n",
    "for i, model_name in enumerate(models.keys()):\n",
    "    # Get the model\n",
    "    model = models[model_name]\n",
    "    \n",
    "    # Train the model\n",
    "    model.fit(X_train, y_train)\n",
    "    \n",
    "    # Make predictions on both training and test sets\n",
    "    y_train_pred = model.predict(X_train)\n",
    "    y_test_pred = model.predict(X_test)\n",
    "    \n",
    "    # Calculate performance metrics\n",
    "    train_mse = mean_squared_error(y_train, y_train_pred)\n",
    "    test_mse = mean_squared_error(y_test, y_test_pred)\n",
    "    train_r2 = r2_score(y_train, y_train_pred)\n",
    "    test_r2 = r2_score(y_test, y_test_pred)\n",
    "    \n",
    "    # Cross-validation on the training data\n",
    "    cv_scores = cross_val_score(model, X_train, y_train, cv=5, scoring='r2')\n",
    "    cv_mean = np.mean(cv_scores)\n",
    "    cv_std = np.std(cv_scores)\n",
    "    \n",
    "    # Print out results\n",
    "    print(f\"Model: {model_name}\")\n",
    "    print(f\"Training MSE: {train_mse:.4f}, Testing MSE: {test_mse:.4f}\")\n",
    "    print(f\"Training R²: {train_r2:.4f}, Testing R²: {test_r2:.4f}\")\n",
    "    print(f\"Cross-Validation R² (Mean ± Std): {cv_mean:.4f} ± {cv_std:.4f}\")\n",
    "    print(\"=\"*40)\n",
    "    \n",
    "    # Check for overfitting\n",
    "    if train_mse < test_mse and train_r2 > test_r2:\n",
    "        print(\"Possible overfitting detected for this model.\\n\")\n",
    "    else:\n",
    "        print(\"Good to go!\")\n"
   ]
  },
  {
   "cell_type": "code",
   "execution_count": null,
   "id": "900a5c6d-9299-48ae-86d2-fbde75086096",
   "metadata": {},
   "outputs": [],
   "source": []
  }
 ],
 "metadata": {
  "kernelspec": {
   "display_name": "base",
   "language": "python",
   "name": "python3"
  },
  "language_info": {
   "codemirror_mode": {
    "name": "ipython",
    "version": 3
   },
   "file_extension": ".py",
   "mimetype": "text/x-python",
   "name": "python",
   "nbconvert_exporter": "python",
   "pygments_lexer": "ipython3",
   "version": "3.12.4"
  }
 },
 "nbformat": 4,
 "nbformat_minor": 5
}
